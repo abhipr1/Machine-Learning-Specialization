{
 "cells": [
  {
   "cell_type": "code",
   "execution_count": 8,
   "metadata": {
    "collapsed": false
   },
   "outputs": [],
   "source": [
    "import pandas as pd\n",
    "import matplotlib.pyplot as plt\n",
    "import numpy as np\n",
    "import seaborn as sns\n",
    "\n",
    "%matplotlib inline"
   ]
  },
  {
   "cell_type": "markdown",
   "metadata": {},
   "source": [
    "### Load some house value vs. crime rate data\n",
    "\n",
    "Dataset is from Philadelphia, PA and includes average house sales price in a number of neighborhoods.  The attributes of each neighborhood we have include the crime rate ('CrimeRate'), miles from Center City ('MilesPhila'), town name ('Name'), and county name ('County')."
   ]
  },
  {
   "cell_type": "code",
   "execution_count": 3,
   "metadata": {
    "collapsed": false
   },
   "outputs": [],
   "source": [
    "sales = pd.read_csv('Data/Philadelphia_Crime_Rate_noNA.csv')"
   ]
  },
  {
   "cell_type": "code",
   "execution_count": 4,
   "metadata": {
    "collapsed": false
   },
   "outputs": [
    {
     "data": {
      "text/html": [
       "<div>\n",
       "<table border=\"1\" class=\"dataframe\">\n",
       "  <thead>\n",
       "    <tr style=\"text-align: right;\">\n",
       "      <th></th>\n",
       "      <th>HousePrice</th>\n",
       "      <th>HsPrc ($10,000)</th>\n",
       "      <th>CrimeRate</th>\n",
       "      <th>MilesPhila</th>\n",
       "      <th>PopChg</th>\n",
       "      <th>Name</th>\n",
       "      <th>County</th>\n",
       "    </tr>\n",
       "  </thead>\n",
       "  <tbody>\n",
       "    <tr>\n",
       "      <th>0</th>\n",
       "      <td>140463</td>\n",
       "      <td>14.0463</td>\n",
       "      <td>29.7</td>\n",
       "      <td>10.0</td>\n",
       "      <td>-1.0</td>\n",
       "      <td>Abington</td>\n",
       "      <td>Montgome</td>\n",
       "    </tr>\n",
       "    <tr>\n",
       "      <th>1</th>\n",
       "      <td>113033</td>\n",
       "      <td>11.3033</td>\n",
       "      <td>24.1</td>\n",
       "      <td>18.0</td>\n",
       "      <td>4.0</td>\n",
       "      <td>Ambler</td>\n",
       "      <td>Montgome</td>\n",
       "    </tr>\n",
       "    <tr>\n",
       "      <th>2</th>\n",
       "      <td>124186</td>\n",
       "      <td>12.4186</td>\n",
       "      <td>19.5</td>\n",
       "      <td>25.0</td>\n",
       "      <td>8.0</td>\n",
       "      <td>Aston</td>\n",
       "      <td>Delaware</td>\n",
       "    </tr>\n",
       "    <tr>\n",
       "      <th>3</th>\n",
       "      <td>110490</td>\n",
       "      <td>11.0490</td>\n",
       "      <td>49.4</td>\n",
       "      <td>25.0</td>\n",
       "      <td>2.7</td>\n",
       "      <td>Bensalem</td>\n",
       "      <td>Bucks</td>\n",
       "    </tr>\n",
       "    <tr>\n",
       "      <th>4</th>\n",
       "      <td>79124</td>\n",
       "      <td>7.9124</td>\n",
       "      <td>54.1</td>\n",
       "      <td>19.0</td>\n",
       "      <td>3.9</td>\n",
       "      <td>Bristol B.</td>\n",
       "      <td>Bucks</td>\n",
       "    </tr>\n",
       "    <tr>\n",
       "      <th>5</th>\n",
       "      <td>92634</td>\n",
       "      <td>9.2634</td>\n",
       "      <td>48.6</td>\n",
       "      <td>20.0</td>\n",
       "      <td>0.6</td>\n",
       "      <td>Bristol T.</td>\n",
       "      <td>Bucks</td>\n",
       "    </tr>\n",
       "    <tr>\n",
       "      <th>6</th>\n",
       "      <td>89246</td>\n",
       "      <td>8.9246</td>\n",
       "      <td>30.8</td>\n",
       "      <td>15.0</td>\n",
       "      <td>-2.6</td>\n",
       "      <td>Brookhaven</td>\n",
       "      <td>Delaware</td>\n",
       "    </tr>\n",
       "    <tr>\n",
       "      <th>7</th>\n",
       "      <td>195145</td>\n",
       "      <td>19.5145</td>\n",
       "      <td>10.8</td>\n",
       "      <td>20.0</td>\n",
       "      <td>-3.5</td>\n",
       "      <td>Bryn Athyn</td>\n",
       "      <td>Montgome</td>\n",
       "    </tr>\n",
       "    <tr>\n",
       "      <th>8</th>\n",
       "      <td>297342</td>\n",
       "      <td>29.7342</td>\n",
       "      <td>20.2</td>\n",
       "      <td>14.0</td>\n",
       "      <td>0.6</td>\n",
       "      <td>Bryn Mawr</td>\n",
       "      <td>Montgome</td>\n",
       "    </tr>\n",
       "    <tr>\n",
       "      <th>9</th>\n",
       "      <td>264298</td>\n",
       "      <td>26.4298</td>\n",
       "      <td>20.4</td>\n",
       "      <td>26.0</td>\n",
       "      <td>6.0</td>\n",
       "      <td>Buckingham</td>\n",
       "      <td>Bucks</td>\n",
       "    </tr>\n",
       "    <tr>\n",
       "      <th>10</th>\n",
       "      <td>134342</td>\n",
       "      <td>13.4342</td>\n",
       "      <td>17.3</td>\n",
       "      <td>31.0</td>\n",
       "      <td>4.2</td>\n",
       "      <td>Chalfont</td>\n",
       "      <td>Bucks</td>\n",
       "    </tr>\n",
       "    <tr>\n",
       "      <th>11</th>\n",
       "      <td>147600</td>\n",
       "      <td>14.7600</td>\n",
       "      <td>50.3</td>\n",
       "      <td>9.0</td>\n",
       "      <td>-1.0</td>\n",
       "      <td>Cheltenham</td>\n",
       "      <td>Montgome</td>\n",
       "    </tr>\n",
       "    <tr>\n",
       "      <th>12</th>\n",
       "      <td>77370</td>\n",
       "      <td>7.7370</td>\n",
       "      <td>34.2</td>\n",
       "      <td>10.0</td>\n",
       "      <td>-1.2</td>\n",
       "      <td>Clifton</td>\n",
       "      <td>Delaware</td>\n",
       "    </tr>\n",
       "    <tr>\n",
       "      <th>13</th>\n",
       "      <td>170822</td>\n",
       "      <td>17.0822</td>\n",
       "      <td>33.7</td>\n",
       "      <td>32.0</td>\n",
       "      <td>2.4</td>\n",
       "      <td>Collegeville</td>\n",
       "      <td>Montgome</td>\n",
       "    </tr>\n",
       "    <tr>\n",
       "      <th>14</th>\n",
       "      <td>40642</td>\n",
       "      <td>4.0642</td>\n",
       "      <td>45.7</td>\n",
       "      <td>15.0</td>\n",
       "      <td>0.0</td>\n",
       "      <td>Darby Bor.</td>\n",
       "      <td>Delaware</td>\n",
       "    </tr>\n",
       "    <tr>\n",
       "      <th>15</th>\n",
       "      <td>71359</td>\n",
       "      <td>7.1359</td>\n",
       "      <td>22.3</td>\n",
       "      <td>8.0</td>\n",
       "      <td>1.6</td>\n",
       "      <td>Darby Town</td>\n",
       "      <td>Delaware</td>\n",
       "    </tr>\n",
       "    <tr>\n",
       "      <th>16</th>\n",
       "      <td>104923</td>\n",
       "      <td>10.4923</td>\n",
       "      <td>48.1</td>\n",
       "      <td>21.0</td>\n",
       "      <td>6.9</td>\n",
       "      <td>Downingtown</td>\n",
       "      <td>Chester</td>\n",
       "    </tr>\n",
       "    <tr>\n",
       "      <th>17</th>\n",
       "      <td>190317</td>\n",
       "      <td>19.0317</td>\n",
       "      <td>19.4</td>\n",
       "      <td>26.0</td>\n",
       "      <td>1.9</td>\n",
       "      <td>Doylestown</td>\n",
       "      <td>Bucks</td>\n",
       "    </tr>\n",
       "    <tr>\n",
       "      <th>18</th>\n",
       "      <td>215512</td>\n",
       "      <td>21.5512</td>\n",
       "      <td>71.9</td>\n",
       "      <td>26.0</td>\n",
       "      <td>5.8</td>\n",
       "      <td>E. Bradford</td>\n",
       "      <td>Chester</td>\n",
       "    </tr>\n",
       "    <tr>\n",
       "      <th>19</th>\n",
       "      <td>178105</td>\n",
       "      <td>17.8105</td>\n",
       "      <td>45.1</td>\n",
       "      <td>25.0</td>\n",
       "      <td>2.3</td>\n",
       "      <td>E. Goshen</td>\n",
       "      <td>Chester</td>\n",
       "    </tr>\n",
       "    <tr>\n",
       "      <th>20</th>\n",
       "      <td>131025</td>\n",
       "      <td>13.1025</td>\n",
       "      <td>31.3</td>\n",
       "      <td>19.0</td>\n",
       "      <td>-1.8</td>\n",
       "      <td>E. Norriton</td>\n",
       "      <td>Montgome</td>\n",
       "    </tr>\n",
       "    <tr>\n",
       "      <th>21</th>\n",
       "      <td>149844</td>\n",
       "      <td>14.9844</td>\n",
       "      <td>24.9</td>\n",
       "      <td>22.0</td>\n",
       "      <td>6.4</td>\n",
       "      <td>E. Pikeland</td>\n",
       "      <td>Chester</td>\n",
       "    </tr>\n",
       "    <tr>\n",
       "      <th>22</th>\n",
       "      <td>170556</td>\n",
       "      <td>17.0556</td>\n",
       "      <td>27.2</td>\n",
       "      <td>30.0</td>\n",
       "      <td>4.6</td>\n",
       "      <td>E. Whiteland</td>\n",
       "      <td>Chester</td>\n",
       "    </tr>\n",
       "    <tr>\n",
       "      <th>23</th>\n",
       "      <td>280969</td>\n",
       "      <td>28.0969</td>\n",
       "      <td>17.7</td>\n",
       "      <td>14.0</td>\n",
       "      <td>2.9</td>\n",
       "      <td>Easttown</td>\n",
       "      <td>Chester</td>\n",
       "    </tr>\n",
       "    <tr>\n",
       "      <th>24</th>\n",
       "      <td>114233</td>\n",
       "      <td>11.4233</td>\n",
       "      <td>29.0</td>\n",
       "      <td>30.0</td>\n",
       "      <td>1.3</td>\n",
       "      <td>Falls Town</td>\n",
       "      <td>Bucks</td>\n",
       "    </tr>\n",
       "    <tr>\n",
       "      <th>25</th>\n",
       "      <td>74502</td>\n",
       "      <td>7.4502</td>\n",
       "      <td>21.4</td>\n",
       "      <td>15.0</td>\n",
       "      <td>-3.2</td>\n",
       "      <td>Follcroft</td>\n",
       "      <td>Delaware</td>\n",
       "    </tr>\n",
       "    <tr>\n",
       "      <th>26</th>\n",
       "      <td>475112</td>\n",
       "      <td>47.5112</td>\n",
       "      <td>28.6</td>\n",
       "      <td>12.0</td>\n",
       "      <td>NaN</td>\n",
       "      <td>Gladwyne</td>\n",
       "      <td>Montgome</td>\n",
       "    </tr>\n",
       "    <tr>\n",
       "      <th>27</th>\n",
       "      <td>97167</td>\n",
       "      <td>9.7167</td>\n",
       "      <td>29.3</td>\n",
       "      <td>10.0</td>\n",
       "      <td>0.2</td>\n",
       "      <td>Glenolden</td>\n",
       "      <td>Delaware</td>\n",
       "    </tr>\n",
       "    <tr>\n",
       "      <th>28</th>\n",
       "      <td>114572</td>\n",
       "      <td>11.4572</td>\n",
       "      <td>17.5</td>\n",
       "      <td>20.0</td>\n",
       "      <td>5.2</td>\n",
       "      <td>Hatboro</td>\n",
       "      <td>Montgome</td>\n",
       "    </tr>\n",
       "    <tr>\n",
       "      <th>29</th>\n",
       "      <td>436348</td>\n",
       "      <td>43.6348</td>\n",
       "      <td>16.5</td>\n",
       "      <td>10.0</td>\n",
       "      <td>-0.7</td>\n",
       "      <td>Haverford</td>\n",
       "      <td>Delaware</td>\n",
       "    </tr>\n",
       "    <tr>\n",
       "      <th>...</th>\n",
       "      <td>...</td>\n",
       "      <td>...</td>\n",
       "      <td>...</td>\n",
       "      <td>...</td>\n",
       "      <td>...</td>\n",
       "      <td>...</td>\n",
       "      <td>...</td>\n",
       "    </tr>\n",
       "    <tr>\n",
       "      <th>69</th>\n",
       "      <td>100231</td>\n",
       "      <td>10.0231</td>\n",
       "      <td>24.1</td>\n",
       "      <td>15.0</td>\n",
       "      <td>1.9</td>\n",
       "      <td>Ridley Town</td>\n",
       "      <td>Delaware</td>\n",
       "    </tr>\n",
       "    <tr>\n",
       "      <th>70</th>\n",
       "      <td>95831</td>\n",
       "      <td>9.5831</td>\n",
       "      <td>21.2</td>\n",
       "      <td>32.0</td>\n",
       "      <td>3.2</td>\n",
       "      <td>Royersford</td>\n",
       "      <td>Montgome</td>\n",
       "    </tr>\n",
       "    <tr>\n",
       "      <th>71</th>\n",
       "      <td>229711</td>\n",
       "      <td>22.9711</td>\n",
       "      <td>9.8</td>\n",
       "      <td>22.0</td>\n",
       "      <td>5.3</td>\n",
       "      <td>Schuylkill</td>\n",
       "      <td>Chester</td>\n",
       "    </tr>\n",
       "    <tr>\n",
       "      <th>72</th>\n",
       "      <td>74308</td>\n",
       "      <td>7.4308</td>\n",
       "      <td>29.9</td>\n",
       "      <td>7.0</td>\n",
       "      <td>1.8</td>\n",
       "      <td>Sharon Hill</td>\n",
       "      <td>Delaware</td>\n",
       "    </tr>\n",
       "    <tr>\n",
       "      <th>73</th>\n",
       "      <td>259506</td>\n",
       "      <td>25.9506</td>\n",
       "      <td>7.2</td>\n",
       "      <td>40.0</td>\n",
       "      <td>17.4</td>\n",
       "      <td>Solebury</td>\n",
       "      <td>Bucks</td>\n",
       "    </tr>\n",
       "    <tr>\n",
       "      <th>74</th>\n",
       "      <td>159573</td>\n",
       "      <td>15.9573</td>\n",
       "      <td>19.4</td>\n",
       "      <td>15.0</td>\n",
       "      <td>-2.1</td>\n",
       "      <td>Springfield</td>\n",
       "      <td>Montgome</td>\n",
       "    </tr>\n",
       "    <tr>\n",
       "      <th>75</th>\n",
       "      <td>147176</td>\n",
       "      <td>14.7176</td>\n",
       "      <td>41.1</td>\n",
       "      <td>12.0</td>\n",
       "      <td>-1.7</td>\n",
       "      <td>Springfield</td>\n",
       "      <td>Delaware</td>\n",
       "    </tr>\n",
       "    <tr>\n",
       "      <th>76</th>\n",
       "      <td>205732</td>\n",
       "      <td>20.5732</td>\n",
       "      <td>11.2</td>\n",
       "      <td>12.0</td>\n",
       "      <td>-0.2</td>\n",
       "      <td>Swarthmore</td>\n",
       "      <td>Delaware</td>\n",
       "    </tr>\n",
       "    <tr>\n",
       "      <th>77</th>\n",
       "      <td>215783</td>\n",
       "      <td>21.5783</td>\n",
       "      <td>21.2</td>\n",
       "      <td>20.0</td>\n",
       "      <td>1.1</td>\n",
       "      <td>Tredyffin</td>\n",
       "      <td>Chester</td>\n",
       "    </tr>\n",
       "    <tr>\n",
       "      <th>78</th>\n",
       "      <td>116710</td>\n",
       "      <td>11.6710</td>\n",
       "      <td>42.8</td>\n",
       "      <td>20.0</td>\n",
       "      <td>12.9</td>\n",
       "      <td>U. Chichester</td>\n",
       "      <td>Delaware</td>\n",
       "    </tr>\n",
       "    <tr>\n",
       "      <th>79</th>\n",
       "      <td>359112</td>\n",
       "      <td>35.9112</td>\n",
       "      <td>9.4</td>\n",
       "      <td>36.0</td>\n",
       "      <td>4.0</td>\n",
       "      <td>U. Makefield</td>\n",
       "      <td>Bucks</td>\n",
       "    </tr>\n",
       "    <tr>\n",
       "      <th>80</th>\n",
       "      <td>189959</td>\n",
       "      <td>18.9959</td>\n",
       "      <td>61.7</td>\n",
       "      <td>22.0</td>\n",
       "      <td>-2.1</td>\n",
       "      <td>U. Merion</td>\n",
       "      <td>Montgome</td>\n",
       "    </tr>\n",
       "    <tr>\n",
       "      <th>81</th>\n",
       "      <td>133198</td>\n",
       "      <td>13.3198</td>\n",
       "      <td>19.4</td>\n",
       "      <td>22.0</td>\n",
       "      <td>-2.0</td>\n",
       "      <td>U. Moreland</td>\n",
       "      <td>Montgome</td>\n",
       "    </tr>\n",
       "    <tr>\n",
       "      <th>82</th>\n",
       "      <td>242821</td>\n",
       "      <td>24.2821</td>\n",
       "      <td>6.6</td>\n",
       "      <td>21.0</td>\n",
       "      <td>1.6</td>\n",
       "      <td>U. Providence</td>\n",
       "      <td>Delaware</td>\n",
       "    </tr>\n",
       "    <tr>\n",
       "      <th>83</th>\n",
       "      <td>142811</td>\n",
       "      <td>14.2811</td>\n",
       "      <td>15.9</td>\n",
       "      <td>20.0</td>\n",
       "      <td>-1.6</td>\n",
       "      <td>U. Southampton</td>\n",
       "      <td>Bucks</td>\n",
       "    </tr>\n",
       "    <tr>\n",
       "      <th>84</th>\n",
       "      <td>200498</td>\n",
       "      <td>20.0498</td>\n",
       "      <td>18.8</td>\n",
       "      <td>36.0</td>\n",
       "      <td>11.0</td>\n",
       "      <td>U. Uwchlan</td>\n",
       "      <td>Chester</td>\n",
       "    </tr>\n",
       "    <tr>\n",
       "      <th>85</th>\n",
       "      <td>199065</td>\n",
       "      <td>19.9065</td>\n",
       "      <td>13.2</td>\n",
       "      <td>20.0</td>\n",
       "      <td>7.8</td>\n",
       "      <td>Upper Darby</td>\n",
       "      <td>Montgome</td>\n",
       "    </tr>\n",
       "    <tr>\n",
       "      <th>86</th>\n",
       "      <td>93648</td>\n",
       "      <td>9.3648</td>\n",
       "      <td>34.5</td>\n",
       "      <td>8.0</td>\n",
       "      <td>-0.7</td>\n",
       "      <td>Upper Darby</td>\n",
       "      <td>Delaware</td>\n",
       "    </tr>\n",
       "    <tr>\n",
       "      <th>87</th>\n",
       "      <td>163001</td>\n",
       "      <td>16.3001</td>\n",
       "      <td>22.1</td>\n",
       "      <td>50.0</td>\n",
       "      <td>8.0</td>\n",
       "      <td>Uwchlan T.</td>\n",
       "      <td>Chester</td>\n",
       "    </tr>\n",
       "    <tr>\n",
       "      <th>88</th>\n",
       "      <td>436348</td>\n",
       "      <td>43.6348</td>\n",
       "      <td>22.1</td>\n",
       "      <td>15.0</td>\n",
       "      <td>1.3</td>\n",
       "      <td>Villanova</td>\n",
       "      <td>Montgome</td>\n",
       "    </tr>\n",
       "    <tr>\n",
       "      <th>89</th>\n",
       "      <td>124478</td>\n",
       "      <td>12.4478</td>\n",
       "      <td>71.9</td>\n",
       "      <td>22.0</td>\n",
       "      <td>4.6</td>\n",
       "      <td>W. Chester</td>\n",
       "      <td>Chester</td>\n",
       "    </tr>\n",
       "    <tr>\n",
       "      <th>90</th>\n",
       "      <td>168276</td>\n",
       "      <td>16.8276</td>\n",
       "      <td>31.9</td>\n",
       "      <td>26.0</td>\n",
       "      <td>5.9</td>\n",
       "      <td>W. Goshen</td>\n",
       "      <td>Chester</td>\n",
       "    </tr>\n",
       "    <tr>\n",
       "      <th>91</th>\n",
       "      <td>114157</td>\n",
       "      <td>11.4157</td>\n",
       "      <td>44.6</td>\n",
       "      <td>38.0</td>\n",
       "      <td>14.6</td>\n",
       "      <td>W. Whiteland</td>\n",
       "      <td>Chester</td>\n",
       "    </tr>\n",
       "    <tr>\n",
       "      <th>92</th>\n",
       "      <td>130088</td>\n",
       "      <td>13.0088</td>\n",
       "      <td>28.6</td>\n",
       "      <td>19.0</td>\n",
       "      <td>-0.2</td>\n",
       "      <td>Warminster</td>\n",
       "      <td>Bucks</td>\n",
       "    </tr>\n",
       "    <tr>\n",
       "      <th>93</th>\n",
       "      <td>152624</td>\n",
       "      <td>15.2624</td>\n",
       "      <td>24.0</td>\n",
       "      <td>19.0</td>\n",
       "      <td>23.1</td>\n",
       "      <td>Warrington</td>\n",
       "      <td>Bucks</td>\n",
       "    </tr>\n",
       "    <tr>\n",
       "      <th>94</th>\n",
       "      <td>174232</td>\n",
       "      <td>17.4232</td>\n",
       "      <td>13.8</td>\n",
       "      <td>25.0</td>\n",
       "      <td>4.7</td>\n",
       "      <td>Westtown</td>\n",
       "      <td>Chester</td>\n",
       "    </tr>\n",
       "    <tr>\n",
       "      <th>95</th>\n",
       "      <td>196515</td>\n",
       "      <td>19.6515</td>\n",
       "      <td>29.9</td>\n",
       "      <td>16.0</td>\n",
       "      <td>1.8</td>\n",
       "      <td>Whitemarsh</td>\n",
       "      <td>Montgome</td>\n",
       "    </tr>\n",
       "    <tr>\n",
       "      <th>96</th>\n",
       "      <td>232714</td>\n",
       "      <td>23.2714</td>\n",
       "      <td>9.9</td>\n",
       "      <td>21.0</td>\n",
       "      <td>0.2</td>\n",
       "      <td>Willistown</td>\n",
       "      <td>Chester</td>\n",
       "    </tr>\n",
       "    <tr>\n",
       "      <th>97</th>\n",
       "      <td>245920</td>\n",
       "      <td>24.5920</td>\n",
       "      <td>22.6</td>\n",
       "      <td>10.0</td>\n",
       "      <td>0.3</td>\n",
       "      <td>Wynnewood</td>\n",
       "      <td>Montgome</td>\n",
       "    </tr>\n",
       "    <tr>\n",
       "      <th>98</th>\n",
       "      <td>130953</td>\n",
       "      <td>13.0953</td>\n",
       "      <td>13.0</td>\n",
       "      <td>24.0</td>\n",
       "      <td>5.2</td>\n",
       "      <td>Yardley</td>\n",
       "      <td>Bucks</td>\n",
       "    </tr>\n",
       "  </tbody>\n",
       "</table>\n",
       "<p>99 rows × 7 columns</p>\n",
       "</div>"
      ],
      "text/plain": [
       "    HousePrice  HsPrc ($10,000)  CrimeRate  MilesPhila  PopChg  \\\n",
       "0       140463          14.0463       29.7        10.0    -1.0   \n",
       "1       113033          11.3033       24.1        18.0     4.0   \n",
       "2       124186          12.4186       19.5        25.0     8.0   \n",
       "3       110490          11.0490       49.4        25.0     2.7   \n",
       "4        79124           7.9124       54.1        19.0     3.9   \n",
       "5        92634           9.2634       48.6        20.0     0.6   \n",
       "6        89246           8.9246       30.8        15.0    -2.6   \n",
       "7       195145          19.5145       10.8        20.0    -3.5   \n",
       "8       297342          29.7342       20.2        14.0     0.6   \n",
       "9       264298          26.4298       20.4        26.0     6.0   \n",
       "10      134342          13.4342       17.3        31.0     4.2   \n",
       "11      147600          14.7600       50.3         9.0    -1.0   \n",
       "12       77370           7.7370       34.2        10.0    -1.2   \n",
       "13      170822          17.0822       33.7        32.0     2.4   \n",
       "14       40642           4.0642       45.7        15.0     0.0   \n",
       "15       71359           7.1359       22.3         8.0     1.6   \n",
       "16      104923          10.4923       48.1        21.0     6.9   \n",
       "17      190317          19.0317       19.4        26.0     1.9   \n",
       "18      215512          21.5512       71.9        26.0     5.8   \n",
       "19      178105          17.8105       45.1        25.0     2.3   \n",
       "20      131025          13.1025       31.3        19.0    -1.8   \n",
       "21      149844          14.9844       24.9        22.0     6.4   \n",
       "22      170556          17.0556       27.2        30.0     4.6   \n",
       "23      280969          28.0969       17.7        14.0     2.9   \n",
       "24      114233          11.4233       29.0        30.0     1.3   \n",
       "25       74502           7.4502       21.4        15.0    -3.2   \n",
       "26      475112          47.5112       28.6        12.0     NaN   \n",
       "27       97167           9.7167       29.3        10.0     0.2   \n",
       "28      114572          11.4572       17.5        20.0     5.2   \n",
       "29      436348          43.6348       16.5        10.0    -0.7   \n",
       "..         ...              ...        ...         ...     ...   \n",
       "69      100231          10.0231       24.1        15.0     1.9   \n",
       "70       95831           9.5831       21.2        32.0     3.2   \n",
       "71      229711          22.9711        9.8        22.0     5.3   \n",
       "72       74308           7.4308       29.9         7.0     1.8   \n",
       "73      259506          25.9506        7.2        40.0    17.4   \n",
       "74      159573          15.9573       19.4        15.0    -2.1   \n",
       "75      147176          14.7176       41.1        12.0    -1.7   \n",
       "76      205732          20.5732       11.2        12.0    -0.2   \n",
       "77      215783          21.5783       21.2        20.0     1.1   \n",
       "78      116710          11.6710       42.8        20.0    12.9   \n",
       "79      359112          35.9112        9.4        36.0     4.0   \n",
       "80      189959          18.9959       61.7        22.0    -2.1   \n",
       "81      133198          13.3198       19.4        22.0    -2.0   \n",
       "82      242821          24.2821        6.6        21.0     1.6   \n",
       "83      142811          14.2811       15.9        20.0    -1.6   \n",
       "84      200498          20.0498       18.8        36.0    11.0   \n",
       "85      199065          19.9065       13.2        20.0     7.8   \n",
       "86       93648           9.3648       34.5         8.0    -0.7   \n",
       "87      163001          16.3001       22.1        50.0     8.0   \n",
       "88      436348          43.6348       22.1        15.0     1.3   \n",
       "89      124478          12.4478       71.9        22.0     4.6   \n",
       "90      168276          16.8276       31.9        26.0     5.9   \n",
       "91      114157          11.4157       44.6        38.0    14.6   \n",
       "92      130088          13.0088       28.6        19.0    -0.2   \n",
       "93      152624          15.2624       24.0        19.0    23.1   \n",
       "94      174232          17.4232       13.8        25.0     4.7   \n",
       "95      196515          19.6515       29.9        16.0     1.8   \n",
       "96      232714          23.2714        9.9        21.0     0.2   \n",
       "97      245920          24.5920       22.6        10.0     0.3   \n",
       "98      130953          13.0953       13.0        24.0     5.2   \n",
       "\n",
       "              Name    County  \n",
       "0         Abington  Montgome  \n",
       "1           Ambler  Montgome  \n",
       "2            Aston  Delaware  \n",
       "3         Bensalem     Bucks  \n",
       "4       Bristol B.     Bucks  \n",
       "5       Bristol T.     Bucks  \n",
       "6       Brookhaven  Delaware  \n",
       "7       Bryn Athyn  Montgome  \n",
       "8        Bryn Mawr  Montgome  \n",
       "9       Buckingham     Bucks  \n",
       "10        Chalfont     Bucks  \n",
       "11      Cheltenham  Montgome  \n",
       "12         Clifton  Delaware  \n",
       "13    Collegeville  Montgome  \n",
       "14      Darby Bor.  Delaware  \n",
       "15      Darby Town  Delaware  \n",
       "16     Downingtown   Chester  \n",
       "17      Doylestown     Bucks  \n",
       "18     E. Bradford   Chester  \n",
       "19       E. Goshen   Chester  \n",
       "20     E. Norriton  Montgome  \n",
       "21     E. Pikeland   Chester  \n",
       "22    E. Whiteland   Chester  \n",
       "23        Easttown   Chester  \n",
       "24      Falls Town     Bucks  \n",
       "25       Follcroft  Delaware  \n",
       "26        Gladwyne  Montgome  \n",
       "27       Glenolden  Delaware  \n",
       "28         Hatboro  Montgome  \n",
       "29       Haverford  Delaware  \n",
       "..             ...       ...  \n",
       "69     Ridley Town  Delaware  \n",
       "70      Royersford  Montgome  \n",
       "71      Schuylkill   Chester  \n",
       "72     Sharon Hill  Delaware  \n",
       "73        Solebury     Bucks  \n",
       "74     Springfield  Montgome  \n",
       "75     Springfield  Delaware  \n",
       "76      Swarthmore  Delaware  \n",
       "77       Tredyffin   Chester  \n",
       "78   U. Chichester  Delaware  \n",
       "79    U. Makefield     Bucks  \n",
       "80       U. Merion  Montgome  \n",
       "81     U. Moreland  Montgome  \n",
       "82   U. Providence  Delaware  \n",
       "83  U. Southampton     Bucks  \n",
       "84      U. Uwchlan   Chester  \n",
       "85     Upper Darby  Montgome  \n",
       "86     Upper Darby  Delaware  \n",
       "87      Uwchlan T.   Chester  \n",
       "88       Villanova  Montgome  \n",
       "89      W. Chester   Chester  \n",
       "90       W. Goshen   Chester  \n",
       "91    W. Whiteland   Chester  \n",
       "92      Warminster     Bucks  \n",
       "93      Warrington     Bucks  \n",
       "94        Westtown   Chester  \n",
       "95      Whitemarsh  Montgome  \n",
       "96      Willistown   Chester  \n",
       "97       Wynnewood  Montgome  \n",
       "98         Yardley     Bucks  \n",
       "\n",
       "[99 rows x 7 columns]"
      ]
     },
     "execution_count": 4,
     "metadata": {},
     "output_type": "execute_result"
    }
   ],
   "source": [
    "sales"
   ]
  },
  {
   "cell_type": "markdown",
   "metadata": {},
   "source": [
    "### Exploring the data "
   ]
  },
  {
   "cell_type": "markdown",
   "metadata": {},
   "source": [
    "The house price in a town is correlated with the crime rate of that town. Low crime towns tend to be associated with higher house prices and vice versa."
   ]
  },
  {
   "cell_type": "code",
   "execution_count": 9,
   "metadata": {
    "collapsed": false
   },
   "outputs": [
    {
     "data": {
      "text/plain": [
       "<matplotlib.text.Text at 0x11a968d68>"
      ]
     },
     "execution_count": 9,
     "metadata": {},
     "output_type": "execute_result"
    },
    {
     "data": {
      "image/png": "[encoded data removed]",
      "text/plain": [
       "<matplotlib.figure.Figure at 0x11a949898>"
      ]
     },
     "metadata": {},
     "output_type": "display_data"
    }
   ],
   "source": [
    "plt.scatter(sales.CrimeRate, sales.HousePrice)\n",
    "plt.xlim(0, 400)\n",
    "plt.xlabel(\"Crime Rate\")\n",
    "plt.ylabel(\"House Price\")"
   ]
  },
  {
   "cell_type": "markdown",
   "metadata": {},
   "source": [
    "### Fit the regression model using crime as the feature"
   ]
  },
  {
   "cell_type": "code",
   "execution_count": 25,
   "metadata": {
    "collapsed": false
   },
   "outputs": [
    {
     "data": {
      "text/plain": [
       "Intercept    176629.408107\n",
       "CrimeRate      -576.908128\n",
       "dtype: float64"
      ]
     },
     "execution_count": 25,
     "metadata": {},
     "output_type": "execute_result"
    }
   ],
   "source": [
    "import statsmodels.formula.api as smf\n",
    "\n",
    "crime_model = smf.ols(formula='HousePrice ~ CrimeRate', data=sales).fit()\n",
    "crime_model.params"
   ]
  },
  {
   "cell_type": "markdown",
   "metadata": {},
   "source": [
    "### Let's see what our fit looks like"
   ]
  },
  {
   "cell_type": "code",
   "execution_count": 28,
   "metadata": {
    "collapsed": false,
    "scrolled": true
   },
   "outputs": [
    {
     "data": {
      "text/plain": [
       "[<matplotlib.lines.Line2D at 0x11b8b4c50>,\n",
       " <matplotlib.lines.Line2D at 0x11b8b4ef0>]"
      ]
     },
     "execution_count": 28,
     "metadata": {},
     "output_type": "execute_result"
    },
    {
     "data": {
      "image/png": "[encoded data removed]",
      "text/plain": [
       "<matplotlib.figure.Figure at 0x11b427518>"
      ]
     },
     "metadata": {},
     "output_type": "display_data"
    }
   ],
   "source": [
    "plt.plot(sales['CrimeRate'],sales['HousePrice'],'.',\n",
    "        sales['CrimeRate'],crime_model.predict(sales),'-')"
   ]
  },
  {
   "cell_type": "markdown",
   "metadata": {},
   "source": [
    "Above: blue dots are original data, green line is the fit from the simple regression."
   ]
  },
  {
   "cell_type": "markdown",
   "metadata": {},
   "source": [
    "# Remove Center City and redo the analysis"
   ]
  },
  {
   "cell_type": "markdown",
   "metadata": {},
   "source": [
    "Center City is the one observation with an extremely high crime rate, yet house prices are not very low.  This point does not follow the trend of the rest of the data very well.  A question is how much including Center City is influencing our fit on the other datapoints.  Let's remove this datapoint and see what happens."
   ]
  },
  {
   "cell_type": "code",
   "execution_count": 29,
   "metadata": {
    "collapsed": true
   },
   "outputs": [],
   "source": [
    "sales_noCC = sales[sales['MilesPhila'] != 0.0] "
   ]
  },
  {
   "cell_type": "code",
   "execution_count": 31,
   "metadata": {
    "collapsed": false
   },
   "outputs": [
    {
     "data": {
      "text/plain": [
       "<matplotlib.collections.PathCollection at 0x11bab9be0>"
      ]
     },
     "execution_count": 31,
     "metadata": {},
     "output_type": "execute_result"
    },
    {
     "data": {
      "image/png": "[encoded data removed]",
      "text/plain": [
       "<matplotlib.figure.Figure at 0x11b58a630>"
      ]
     },
     "metadata": {},
     "output_type": "display_data"
    }
   ],
   "source": [
    "plt.scatter(x=sales_noCC.CrimeRate, y=sales_noCC.HousePrice)"
   ]
  },
  {
   "cell_type": "markdown",
   "metadata": {},
   "source": [
    "### Refit our simple regression model on this modified dataset:"
   ]
  },
  {
   "cell_type": "code",
   "execution_count": 32,
   "metadata": {
    "collapsed": false
   },
   "outputs": [
    {
     "data": {
      "text/plain": [
       "Intercept    225233.551839\n",
       "CrimeRate     -2288.689430\n",
       "dtype: float64"
      ]
     },
     "execution_count": 32,
     "metadata": {},
     "output_type": "execute_result"
    }
   ],
   "source": [
    "crime_model_noCC = smf.ols(formula='HousePrice ~ CrimeRate', data=sales_noCC).fit()\n",
    "crime_model_noCC.params"
   ]
  },
  {
   "cell_type": "markdown",
   "metadata": {},
   "source": [
    "### Look at the fit:"
   ]
  },
  {
   "cell_type": "code",
   "execution_count": 34,
   "metadata": {
    "collapsed": false
   },
   "outputs": [
    {
     "data": {
      "text/plain": [
       "[<matplotlib.lines.Line2D at 0x11bd76b38>,\n",
       " <matplotlib.lines.Line2D at 0x11bd76dd8>]"
      ]
     },
     "execution_count": 34,
     "metadata": {},
     "output_type": "execute_result"
    },
    {
     "data": {
      "image/png": "[encoded data removed]",
      "text/plain": [
       "<matplotlib.figure.Figure at 0x11bbcfe48>"
      ]
     },
     "metadata": {},
     "output_type": "display_data"
    }
   ],
   "source": [
    "plt.plot(sales_noCC['CrimeRate'],sales_noCC['HousePrice'],'.',\n",
    "        sales_noCC['CrimeRate'],crime_model_noCC.predict(sales_noCC),'-')"
   ]
  },
  {
   "cell_type": "markdown",
   "metadata": {},
   "source": [
    "# Compare coefficients for full-data fit versus no-Center-City fit"
   ]
  },
  {
   "cell_type": "markdown",
   "metadata": {},
   "source": [
    "Visually, the fit seems different, but let's quantify this by examining the estimated coefficients of our original fit and that of the modified dataset with Center City removed."
   ]
  },
  {
   "cell_type": "code",
   "execution_count": 36,
   "metadata": {
    "collapsed": false
   },
   "outputs": [
    {
     "data": {
      "text/plain": [
       "Intercept    176629.408107\n",
       "CrimeRate      -576.908128\n",
       "dtype: float64"
      ]
     },
     "execution_count": 36,
     "metadata": {},
     "output_type": "execute_result"
    }
   ],
   "source": [
    "crime_model.params"
   ]
  },
  {
   "cell_type": "code",
   "execution_count": 37,
   "metadata": {
    "collapsed": false
   },
   "outputs": [
    {
     "data": {
      "text/plain": [
       "Intercept    225233.551839\n",
       "CrimeRate     -2288.689430\n",
       "dtype: float64"
      ]
     },
     "execution_count": 37,
     "metadata": {},
     "output_type": "execute_result"
    }
   ],
   "source": [
    "crime_model_noCC.params"
   ]
  },
  {
   "cell_type": "markdown",
   "metadata": {},
   "source": [
    "Above: We see that for the \"no Center City\" version, per unit increase in crime, the predicted decrease in house prices is 2,288.  In contrast, for the original dataset, the drop is only 576 per unit increase in crime.  This is significantly different!"
   ]
  },
  {
   "cell_type": "markdown",
   "metadata": {},
   "source": [
    "#### High leverage points: \n",
    "Center City is said to be a \"high leverage\" point because it is at an extreme x value where there are not other observations.  As a result, recalling the closed-form solution for simple regression, this point has the *potential* to dramatically change the least squares line since the center of x mass is heavily influenced by this one point and the least squares line will try to fit close to that outlying (in x) point.  If a high leverage point follows the trend of the other data, this might not have much effect.  On the other hand, if this point somehow differs, it can be strongly influential in the resulting fit.\n",
    "\n",
    "#### Influential observations:  \n",
    "An influential observation is one where the removal of the point significantly changes the fit.  As discussed above, high leverage points are good candidates for being influential observations, but need not be.  Other observations that are *not* leverage points can also be influential observations (e.g., strongly outlying in y even if x is a typical value)."
   ]
  },
  {
   "cell_type": "markdown",
   "metadata": {},
   "source": [
    "# Remove high-value outlier neighborhoods and redo analysis"
   ]
  },
  {
   "cell_type": "markdown",
   "metadata": {},
   "source": [
    "Based on the discussion above, a question is whether the outlying high-value towns are strongly influencing the fit.  Let's remove them and see what happens."
   ]
  },
  {
   "cell_type": "code",
   "execution_count": 38,
   "metadata": {
    "collapsed": false
   },
   "outputs": [
    {
     "data": {
      "text/plain": [
       "Intercept    199098.852670\n",
       "CrimeRate     -1838.562649\n",
       "dtype: float64"
      ]
     },
     "execution_count": 38,
     "metadata": {},
     "output_type": "execute_result"
    }
   ],
   "source": [
    "sales_nohighend = sales_noCC[sales_noCC['HousePrice'] < 350000]\n",
    "\n",
    "crime_model_nohighend = smf.ols(formula='HousePrice ~ CrimeRate', data=sales_nohighend).fit()\n",
    "crime_model_nohighend.params"
   ]
  },
  {
   "cell_type": "markdown",
   "metadata": {},
   "source": [
    "### Do the coefficients change much?"
   ]
  },
  {
   "cell_type": "code",
   "execution_count": 39,
   "metadata": {
    "collapsed": false
   },
   "outputs": [
    {
     "data": {
      "text/plain": [
       "Intercept    225233.551839\n",
       "CrimeRate     -2288.689430\n",
       "dtype: float64"
      ]
     },
     "execution_count": 39,
     "metadata": {},
     "output_type": "execute_result"
    }
   ],
   "source": [
    "crime_model_noCC.params"
   ]
  },
  {
   "cell_type": "code",
   "execution_count": 40,
   "metadata": {
    "collapsed": false
   },
   "outputs": [
    {
     "data": {
      "text/plain": [
       "Intercept    199098.852670\n",
       "CrimeRate     -1838.562649\n",
       "dtype: float64"
      ]
     },
     "execution_count": 40,
     "metadata": {},
     "output_type": "execute_result"
    }
   ],
   "source": [
    "crime_model_nohighend.params"
   ]
  },
  {
   "cell_type": "markdown",
   "metadata": {},
   "source": [
    "Above: We see that removing the outlying high-value neighborhoods has *some* effect on the fit, but not nearly as much as our high-leverage Center City datapoint."
   ]
  },
  {
   "cell_type": "code",
   "execution_count": null,
   "metadata": {
    "collapsed": true
   },
   "outputs": [],
   "source": []
  }
 ],
 "metadata": {
  "anaconda-cloud": {},
  "kernelspec": {
   "display_name": "Python [conda root]",
   "language": "python",
   "name": "conda-root-py"
  },
  "language_info": {
   "codemirror_mode": {
    "name": "ipython",
    "version": 3
   },
   "file_extension": ".py",
   "mimetype": "text/x-python",
   "name": "python",
   "nbconvert_exporter": "python",
   "pygments_lexer": "ipython3",
   "version": "3.5.2"
  }
 },
 "nbformat": 4,
 "nbformat_minor": 0
}
